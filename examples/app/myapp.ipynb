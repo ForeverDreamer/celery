{
 "cells": [
  {
   "cell_type": "code",
   "execution_count": 1,
   "id": "9dafc70b",
   "metadata": {},
   "outputs": [],
   "source": [
    "import sys"
   ]
  },
  {
   "cell_type": "code",
   "execution_count": 2,
   "id": "139ceb66",
   "metadata": {},
   "outputs": [
    {
     "data": {
      "text/plain": [
       "['D:\\\\data_files\\\\celery\\\\examples\\\\app',\n",
       " 'C:\\\\Users\\\\micro\\\\anaconda3\\\\envs\\\\xiaorui\\\\python38.zip',\n",
       " 'C:\\\\Users\\\\micro\\\\anaconda3\\\\envs\\\\xiaorui\\\\DLLs',\n",
       " 'C:\\\\Users\\\\micro\\\\anaconda3\\\\envs\\\\xiaorui\\\\lib',\n",
       " 'C:\\\\Users\\\\micro\\\\anaconda3\\\\envs\\\\xiaorui',\n",
       " '',\n",
       " 'C:\\\\Users\\\\micro\\\\AppData\\\\Roaming\\\\Python\\\\Python38\\\\site-packages',\n",
       " 'C:\\\\Users\\\\micro\\\\anaconda3\\\\envs\\\\xiaorui\\\\lib\\\\site-packages',\n",
       " 'C:\\\\Users\\\\micro\\\\anaconda3\\\\envs\\\\xiaorui\\\\lib\\\\site-packages\\\\win32',\n",
       " 'C:\\\\Users\\\\micro\\\\anaconda3\\\\envs\\\\xiaorui\\\\lib\\\\site-packages\\\\win32\\\\lib',\n",
       " 'C:\\\\Users\\\\micro\\\\anaconda3\\\\envs\\\\xiaorui\\\\lib\\\\site-packages\\\\Pythonwin',\n",
       " 'C:\\\\Users\\\\micro\\\\anaconda3\\\\envs\\\\xiaorui\\\\lib\\\\site-packages\\\\IPython\\\\extensions',\n",
       " 'C:\\\\Users\\\\micro\\\\.ipython']"
      ]
     },
     "execution_count": 2,
     "metadata": {},
     "output_type": "execute_result"
    }
   ],
   "source": [
    "sys.path"
   ]
  },
  {
   "cell_type": "code",
   "execution_count": 3,
   "id": "8203d5b1",
   "metadata": {},
   "outputs": [],
   "source": [
    "# sys.path.insert(0, 'D:\\\\data_files\\\\celery')"
   ]
  },
  {
   "cell_type": "code",
   "execution_count": 4,
   "id": "5ad407b8",
   "metadata": {},
   "outputs": [],
   "source": [
    "from myapp import add"
   ]
  },
  {
   "cell_type": "code",
   "execution_count": 5,
   "id": "443dd184",
   "metadata": {},
   "outputs": [
    {
     "data": {
      "text/plain": [
       "'examples.app.myapp.add'"
      ]
     },
     "execution_count": 5,
     "metadata": {},
     "output_type": "execute_result"
    }
   ],
   "source": [
    "add.name"
   ]
  },
  {
   "cell_type": "code",
   "execution_count": 6,
   "id": "1207f612",
   "metadata": {},
   "outputs": [
    {
     "name": "stderr",
     "output_type": "stream",
     "text": [
      "C:\\Users\\micro\\anaconda3\\envs\\xiaorui\\lib\\site-packages\\redis\\connection.py:72: UserWarning: redis-py works best with hiredis. Please consider installing\n",
      "  warnings.warn(msg)\n"
     ]
    },
    {
     "data": {
      "text/plain": [
       "32"
      ]
     },
     "execution_count": 6,
     "metadata": {},
     "output_type": "execute_result"
    }
   ],
   "source": [
    "add.delay(16, 16).get()"
   ]
  },
  {
   "cell_type": "code",
   "execution_count": null,
   "id": "e5972b4c",
   "metadata": {},
   "outputs": [],
   "source": []
  }
 ],
 "metadata": {
  "kernelspec": {
   "display_name": "Python 3 (ipykernel)",
   "language": "python",
   "name": "python3"
  },
  "language_info": {
   "codemirror_mode": {
    "name": "ipython",
    "version": 3
   },
   "file_extension": ".py",
   "mimetype": "text/x-python",
   "name": "python",
   "nbconvert_exporter": "python",
   "pygments_lexer": "ipython3",
   "version": "3.8.11"
  }
 },
 "nbformat": 4,
 "nbformat_minor": 5
}
