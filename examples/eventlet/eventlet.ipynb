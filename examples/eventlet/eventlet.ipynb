{
 "cells": [
  {
   "cell_type": "code",
   "execution_count": 1,
   "id": "20295044",
   "metadata": {},
   "outputs": [],
   "source": [
    "import sys"
   ]
  },
  {
   "cell_type": "code",
   "execution_count": 2,
   "id": "b2b58384",
   "metadata": {},
   "outputs": [
    {
     "data": {
      "text/plain": [
       "['D:\\\\data_files\\\\celery\\\\examples\\\\eventlet',\n",
       " 'C:\\\\Users\\\\micro\\\\anaconda3\\\\envs\\\\xiaorui\\\\python38.zip',\n",
       " 'C:\\\\Users\\\\micro\\\\anaconda3\\\\envs\\\\xiaorui\\\\DLLs',\n",
       " 'C:\\\\Users\\\\micro\\\\anaconda3\\\\envs\\\\xiaorui\\\\lib',\n",
       " 'C:\\\\Users\\\\micro\\\\anaconda3\\\\envs\\\\xiaorui',\n",
       " '',\n",
       " 'C:\\\\Users\\\\micro\\\\AppData\\\\Roaming\\\\Python\\\\Python38\\\\site-packages',\n",
       " 'C:\\\\Users\\\\micro\\\\anaconda3\\\\envs\\\\xiaorui\\\\lib\\\\site-packages',\n",
       " 'C:\\\\Users\\\\micro\\\\anaconda3\\\\envs\\\\xiaorui\\\\lib\\\\site-packages\\\\win32',\n",
       " 'C:\\\\Users\\\\micro\\\\anaconda3\\\\envs\\\\xiaorui\\\\lib\\\\site-packages\\\\win32\\\\lib',\n",
       " 'C:\\\\Users\\\\micro\\\\anaconda3\\\\envs\\\\xiaorui\\\\lib\\\\site-packages\\\\Pythonwin',\n",
       " 'C:\\\\Users\\\\micro\\\\anaconda3\\\\envs\\\\xiaorui\\\\lib\\\\site-packages\\\\IPython\\\\extensions',\n",
       " 'C:\\\\Users\\\\micro\\\\.ipython']"
      ]
     },
     "execution_count": 2,
     "metadata": {},
     "output_type": "execute_result"
    }
   ],
   "source": [
    "sys.path"
   ]
  },
  {
   "cell_type": "code",
   "execution_count": 3,
   "id": "6f1b4e95",
   "metadata": {},
   "outputs": [],
   "source": [
    "from tasks import urlopen"
   ]
  },
  {
   "cell_type": "code",
   "execution_count": 4,
   "id": "6691cb7b",
   "metadata": {},
   "outputs": [
    {
     "name": "stderr",
     "output_type": "stream",
     "text": [
      "C:\\Users\\micro\\anaconda3\\envs\\xiaorui\\lib\\site-packages\\redis\\connection.py:72: UserWarning: redis-py works best with hiredis. Please consider installing\n",
      "  warnings.warn(msg)\n"
     ]
    }
   ],
   "source": [
    "urlopen.delay('https://www.baidu.com/').get()"
   ]
  },
  {
   "cell_type": "code",
   "execution_count": null,
   "id": "b395c001",
   "metadata": {},
   "outputs": [],
   "source": []
  }
 ],
 "metadata": {
  "kernelspec": {
   "display_name": "Python 3 (ipykernel)",
   "language": "python",
   "name": "python3"
  },
  "language_info": {
   "codemirror_mode": {
    "name": "ipython",
    "version": 3
   },
   "file_extension": ".py",
   "mimetype": "text/x-python",
   "name": "python",
   "nbconvert_exporter": "python",
   "pygments_lexer": "ipython3",
   "version": "3.8.11"
  }
 },
 "nbformat": 4,
 "nbformat_minor": 5
}